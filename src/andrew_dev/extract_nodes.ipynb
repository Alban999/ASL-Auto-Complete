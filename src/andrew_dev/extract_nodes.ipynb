{
 "cells": [
  {
   "cell_type": "code",
   "execution_count": 1,
   "metadata": {},
   "outputs": [],
   "source": [
    "import cv2\n",
    "import mediapipe as mp\n",
    "mp_drawing = mp.solutions.drawing_utils\n",
    "mp_drawing_styles = mp.solutions.drawing_styles\n",
    "mp_hands = mp.solutions.hands\n"
   ]
  },
  {
   "attachments": {},
   "cell_type": "markdown",
   "metadata": {},
   "source": [
    "# Convert images to live image landmarks version:\n",
    "Below takes in an array where each element is the file name of an image in the folder data/unlabled/. The script reads the image, runs a hand detection algorithm, then overlays the results and saves the output to the folder data/labeled/ with the original file name + \"_marked.png\"\n",
    "\n",
    "\n",
    "TODO: Save the keypoints into a separate csv to create a training dataset"
   ]
  },
  {
   "cell_type": "code",
   "execution_count": 19,
   "metadata": {},
   "outputs": [
    {
     "name": "stdout",
     "output_type": "stream",
     "text": [
      "iteration 0 file, ./data/unlabeled/hands.jpg\n"
     ]
    }
   ],
   "source": [
    "# For static images:\n",
    "IMAGE_FILES = [\"hands.jpg\"]\n",
    "with mp_hands.Hands(\n",
    "        static_image_mode=True,\n",
    "        max_num_hands=2,\n",
    "        min_detection_confidence=0.5) as hands:\n",
    "  for idx, file_ori in enumerate(IMAGE_FILES):\n",
    "    file = \"./data/unlabeled/\" + file_ori\n",
    "    print(\"iteration\",idx,\"file,\",file)\n",
    "    # Read an image, flip it around y-axis for correct handedness output (see\n",
    "    # above).\n",
    "\n",
    "    # image = cv2.flip(cv2.imread(file), 1)\n",
    "    image = cv2.imread(file)\n",
    "    image = cv2.cvtColor(image, cv2.COLOR_BGR2RGB)\n",
    "\n",
    "    # Convert the BGR image to RGB before processing.\n",
    "    results = hands.process(image)\n",
    "    image.flags.writeable = True\n",
    "    image = cv2.cvtColor(image, cv2.COLOR_RGB2BGR)\n",
    "    if results.multi_hand_landmarks:\n",
    "\n",
    "      for hand_landmarks in results.multi_hand_landmarks:\n",
    "        # landmarks.append()\n",
    "        mp_drawing.draw_landmarks(\n",
    "            image,\n",
    "            hand_landmarks,\n",
    "            mp_hands.HAND_CONNECTIONS,\n",
    "            mp_drawing_styles.get_default_hand_landmarks_style(),\n",
    "            mp_drawing_styles.get_default_hand_connections_style())\n",
    "    cv2.imwrite(\"./data/labeled/\" +str(file_ori)[:-4]+ \"marked.png\",cv2.flip(image, 1))\n",
    "\n",
    "      # cv2.flip(image, 1)\n",
    "    \n",
    "    # # Draw the hand annotations on the image.\n",
    "    # image.flags.writeable = True\n",
    "    # image = cv2.cvtColor(image, cv2.COLOR_RGB2BGR)\n",
    "    # if results.multi_hand_landmarks:\n",
    "    #   for hand_landmarks in results.multi_hand_landmarks:\n",
    "    #     mp_drawing.draw_landmarks(\n",
    "    #         image,\n",
    "    #         hand_landmarks,\n",
    "    #         mp_hands.HAND_CONNECTIONS,\n",
    "    #         mp_drawing_styles.get_default_hand_landmarks_style(),\n",
    "    #         mp_drawing_styles.get_default_hand_connections_style())\n",
    "    # # Flip the image horizontally for a selfie-view display.\n",
    "    # cv2.imshow('MediaPipe Hands', cv2.flip(image, 1))\n",
    "\n",
    "    # # Print handedness and draw hand landmarks on the image.\n",
    "    # print('Handedness:', results.multi_handedness)\n",
    "    # if not results.multi_hand_landmarks:\n",
    "    #   continue\n",
    "    # image_height, image_width, _ = image.shape\n",
    "    # annotated_image = image.copy()\n",
    "    # for hand_landmarks in results.multi_hand_landmarks:\n",
    "    #   print('hand_landmarks:', hand_landmarks)\n",
    "    #   print(\n",
    "    #       f'Index finger tip coordinates: (',\n",
    "    #       f'{hand_landmarks.landmark[mp_hands.HandLandmark.INDEX_FINGER_TIP].x * image_width}, '\n",
    "    #       f'{hand_landmarks.landmark[mp_hands.HandLandmark.INDEX_FINGER_TIP].y * image_height})'\n",
    "    #   )\n",
    "    #   mp_drawing.draw_landmarks(\n",
    "    #       annotated_image,\n",
    "    #       hand_landmarks,\n",
    "    #       mp_hands.HAND_CONNECTIONS,\n",
    "    #       mp_drawing_styles.get_default_hand_landmarks_style(),\n",
    "    #       mp_drawing_styles.get_default_hand_connections_style())\n",
    "    # cv2.imwrite(\n",
    "    #     '/tmp/annotated_image' + str(idx) + '.png', cv2.flip(annotated_image, 1))\n",
    "    # # Draw hand world landmarks.\n",
    "    # if not results.multi_hand_world_landmarks:\n",
    "    #   continue\n",
    "    # for hand_world_landmarks in results.multi_hand_world_landmarks:\n",
    "    #   mp_drawing.plot_landmarks(\n",
    "    #       hand_world_landmarks, mp_hands.HAND_CONNECTIONS, azimuth=5)"
   ]
  },
  {
   "cell_type": "code",
   "execution_count": null,
   "metadata": {},
   "outputs": [],
   "source": []
  }
 ],
 "metadata": {
  "kernelspec": {
   "display_name": "Python 3",
   "language": "python",
   "name": "python3"
  },
  "language_info": {
   "codemirror_mode": {
    "name": "ipython",
    "version": 3
   },
   "file_extension": ".py",
   "mimetype": "text/x-python",
   "name": "python",
   "nbconvert_exporter": "python",
   "pygments_lexer": "ipython3",
   "version": "3.9.13"
  },
  "orig_nbformat": 4
 },
 "nbformat": 4,
 "nbformat_minor": 2
}
