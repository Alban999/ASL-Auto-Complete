{
 "cells": [
  {
   "cell_type": "code",
   "execution_count": 4,
   "metadata": {},
   "outputs": [],
   "source": [
    "import cv2\n",
    "import mediapipe as mp\n",
    "mp_drawing = mp.solutions.drawing_utils\n",
    "mp_drawing_styles = mp.solutions.drawing_styles\n",
    "mp_hands = mp.solutions.hands\n",
    "import numpy as np\n"
   ]
  },
  {
   "attachments": {},
   "cell_type": "markdown",
   "metadata": {},
   "source": [
    "# Convert images to live image landmarks version:\n",
    "Below takes in an array where each element is the file name of an image in the folder data/unlabled/. The script reads the image, runs a hand detection algorithm, then overlays the results and saves the output to the folder data/labeled/ with the original file name + \"_marked.png\"\n",
    "\n",
    "\n",
    "TODO: Save the keypoints into a separate csv to create a training dataset"
   ]
  },
  {
   "cell_type": "code",
   "execution_count": 19,
   "metadata": {},
   "outputs": [
    {
     "name": "stdout",
     "output_type": "stream",
     "text": [
      "iteration 0 file, ./data/unlabeled/hands.jpg\n"
     ]
    }
   ],
   "source": [
    "# For static images:\n",
    "IMAGE_FILES = [\"hands.jpg\"]\n",
    "with mp_hands.Hands(\n",
    "        static_image_mode=True,\n",
    "        max_num_hands=2,\n",
    "        min_detection_confidence=0.5) as hands:\n",
    "  for idx, file_ori in enumerate(IMAGE_FILES):\n",
    "    file = \"./data/unlabeled/\" + file_ori\n",
    "    print(\"iteration\",idx,\"file,\",file)\n",
    "    # Read an image, flip it around y-axis for correct handedness output (see\n",
    "    # above).\n",
    "\n",
    "    # image = cv2.flip(cv2.imread(file), 1)\n",
    "    image = cv2.imread(file)\n",
    "    image = cv2.cvtColor(image, cv2.COLOR_BGR2RGB)\n",
    "\n",
    "    # Convert the BGR image to RGB before processing.\n",
    "    results = hands.process(image)\n",
    "    image.flags.writeable = True\n",
    "    image = cv2.cvtColor(image, cv2.COLOR_RGB2BGR)\n",
    "    if results.multi_hand_landmarks:\n",
    "\n",
    "      for hand_landmarks in results.multi_hand_landmarks:\n",
    "        # landmarks.append()\n",
    "        mp_drawing.draw_landmarks(\n",
    "            image,\n",
    "            hand_landmarks,\n",
    "            mp_hands.HAND_CONNECTIONS,\n",
    "            mp_drawing_styles.get_default_hand_landmarks_style(),\n",
    "            mp_drawing_styles.get_default_hand_connections_style())\n",
    "    cv2.imwrite(\"./data/labeled/\" +str(file_ori)[:-4]+ \"marked.png\",cv2.flip(image, 1))"
   ]
  },
  {
   "attachments": {},
   "cell_type": "markdown",
   "metadata": {},
   "source": [
    "Now, we want the relative normalized coordinates of thes hand so it is invariant to location and image size!"
   ]
  },
  {
   "cell_type": "code",
   "execution_count": 5,
   "metadata": {},
   "outputs": [
    {
     "name": "stdout",
     "output_type": "stream",
     "text": [
      "iteration 0 file, ./data/unlabeled/hands.jpg\n",
      "[ 1.00000000e+00  4.34967835e-01 -3.47916576e-08  8.82582635e-01\n",
      "  7.59323158e-01 -1.83860995e-02  6.89516073e-01  9.33540385e-01\n",
      " -2.44351812e-02  5.23791267e-01  9.92139709e-01 -3.15571316e-02\n",
      "  3.82077427e-01  1.00000000e+00 -3.75392064e-02  5.04185301e-01\n",
      "  6.06368761e-01  6.72204792e-03  3.23579050e-01  7.12554842e-01\n",
      " -1.75520517e-02  2.25997013e-01  8.39138381e-01 -4.18161079e-02\n",
      "  1.51806618e-01  9.76945895e-01 -5.76517135e-02  4.77653627e-01\n",
      "  4.08366269e-01  7.47234328e-04  2.59541127e-01  4.45197047e-01\n",
      " -1.72595009e-02  1.14985974e-01  5.40388545e-01 -3.80484127e-02\n",
      "  0.00000000e+00  6.53343661e-01 -5.24306186e-02  4.98473873e-01\n",
      "  2.32378382e-01 -1.09612327e-02  2.92032793e-01  2.19396905e-01\n",
      " -2.99397297e-02  1.55154329e-01  2.84264374e-01 -4.68715392e-02\n",
      "  4.01836178e-02  3.75865428e-01 -5.75676374e-02  5.54889918e-01\n",
      "  6.97741740e-02 -2.51207817e-02  3.97184439e-01  0.00000000e+00\n",
      " -4.07977998e-02  2.82935436e-01  1.45630962e-02 -4.96993512e-02\n",
      "  1.79324748e-01  7.03180477e-02 -5.52067496e-02  0.00000000e+00\n",
      "  4.80940937e-01  3.98184341e-07  1.97625860e-01  8.26904867e-01\n",
      " -2.14029737e-02  4.38820730e-01  1.00000000e+00 -2.06197482e-02\n",
      "  6.70471861e-01  9.52557192e-01 -1.98393129e-02  7.71836382e-01\n",
      "  7.50240137e-01 -1.95069965e-02  5.90074547e-01  7.37779251e-01\n",
      "  2.76217237e-02  7.77202046e-01  7.30893867e-01  2.22558714e-02\n",
      "  8.84344541e-01  6.81433434e-01  6.18365919e-03  9.75890900e-01\n",
      "  6.30351591e-01 -8.00790824e-03  5.75775047e-01  5.18268900e-01\n",
      "  2.87939105e-02  7.62673635e-01  4.67886232e-01  2.39749812e-02\n",
      "  8.98188697e-01  4.25146092e-01  1.00762828e-03  1.00000000e+00\n",
      "  3.89454661e-01 -1.89578235e-02  5.18478589e-01  3.09097966e-01\n",
      "  2.42492016e-02  6.90073939e-01  2.38064693e-01  1.41587360e-02\n",
      "  8.05605254e-01  2.05899381e-01 -6.12546317e-03  8.85914699e-01\n",
      "  1.95354546e-01 -2.19626967e-02  4.26012306e-01  9.15891101e-02\n",
      "  1.70404203e-02  5.67018302e-01  9.23596137e-03  5.26789110e-03\n",
      "  6.61384141e-01  0.00000000e+00 -6.25683973e-03  7.42912716e-01\n",
      "  2.88980437e-02 -1.58031173e-02]\n"
     ]
    }
   ],
   "source": [
    "\n",
    "# For static images:\n",
    "IMAGE_FILES = [\"hands.jpg\"]\n",
    "with mp_hands.Hands(\n",
    "        static_image_mode=True,\n",
    "        max_num_hands=2,\n",
    "        min_detection_confidence=0.5) as hands:\n",
    "  for idx, file_ori in enumerate(IMAGE_FILES):\n",
    "    file = \"./data/unlabeled/\" + file_ori\n",
    "    print(\"iteration\",idx,\"file,\",file)\n",
    "    # Read an image, flip it around y-axis for correct handedness output (see\n",
    "    # above).\n",
    "\n",
    "    # image = cv2.flip(cv2.imread(file), 1)\n",
    "    image = cv2.imread(file)\n",
    "    image = cv2.cvtColor(image, cv2.COLOR_BGR2RGB)\n",
    "\n",
    "    # Convert the BGR image to RGB before processing.\n",
    "    results = hands.process(image)\n",
    "    image.flags.writeable = True\n",
    "    image = cv2.cvtColor(image, cv2.COLOR_RGB2BGR)\n",
    "    # Extract the hand landmarks\n",
    "    landmarks = []\n",
    "    if results.multi_hand_landmarks:\n",
    "        for hand_landmarks in results.multi_hand_landmarks:\n",
    "            # Get the bounding box of the hand\n",
    "            x_min, y_min, x_max, y_max = float('inf'), float('inf'), float('-inf'), float('-inf')\n",
    "            for landmark in hand_landmarks.landmark:\n",
    "                x, y = landmark.x, landmark.y\n",
    "                x_min = min(x_min, x)\n",
    "                y_min = min(y_min, y)\n",
    "                x_max = max(x_max, x)\n",
    "                y_max = max(y_max, y)\n",
    "            \n",
    "            # Normalize the coordinates with respect to the bounding box of the hand\n",
    "            for landmark in hand_landmarks.landmark:\n",
    "                x, y, z = landmark.x, landmark.y, landmark.z\n",
    "                x_norm = (x - x_min) / (x_max - x_min)\n",
    "                y_norm = (y - y_min) / (y_max - y_min)\n",
    "                landmarks.append([x_norm, y_norm, z])\n",
    "\n",
    "    # Convert the landmarks to a feature vector\n",
    "    feature_vector = np.array(landmarks).flatten()\n",
    "\n",
    "    # Print the feature vector\n",
    "    print(feature_vector)"
   ]
  },
  {
   "cell_type": "code",
   "execution_count": null,
   "metadata": {},
   "outputs": [],
   "source": []
  }
 ],
 "metadata": {
  "kernelspec": {
   "display_name": "Python 3",
   "language": "python",
   "name": "python3"
  },
  "language_info": {
   "codemirror_mode": {
    "name": "ipython",
    "version": 3
   },
   "file_extension": ".py",
   "mimetype": "text/x-python",
   "name": "python",
   "nbconvert_exporter": "python",
   "pygments_lexer": "ipython3",
   "version": "3.9.13"
  },
  "orig_nbformat": 4
 },
 "nbformat": 4,
 "nbformat_minor": 2
}
